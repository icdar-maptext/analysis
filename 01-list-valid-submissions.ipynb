{
 "cells": [
  {
   "cell_type": "markdown",
   "metadata": {},
   "source": [
    "# Create a clean list of valid submissions per task per subset\n",
    "\n",
    "We found several duplicate and test submissions, and a participant apparently submitted the same file for two methods for task 1, IGN subset.\n",
    "\n",
    "We produce here clean list we can refer to in later stages of the analysis."
   ]
  },
  {
   "cell_type": "code",
   "execution_count": 1,
   "metadata": {},
   "outputs": [],
   "source": [
    "from icdar24_maptext_analysis.loaders import list_submissions, VALID_TASKS, VALID_SUBSETS\n",
    "from typing import List, Dict, Union\n",
    "import pandas as pd"
   ]
  },
  {
   "cell_type": "code",
   "execution_count": 2,
   "metadata": {},
   "outputs": [
    {
     "name": "stdout",
     "output_type": "stream",
     "text": [
      "Dropped 14 submissions\n",
      "Kept 44 submissions\n"
     ]
    },
    {
     "data": {
      "text/html": [
       "<div>\n",
       "<style scoped>\n",
       "    .dataframe tbody tr th:only-of-type {\n",
       "        vertical-align: middle;\n",
       "    }\n",
       "\n",
       "    .dataframe tbody tr th {\n",
       "        vertical-align: top;\n",
       "    }\n",
       "\n",
       "    .dataframe thead th {\n",
       "        text-align: right;\n",
       "    }\n",
       "</style>\n",
       "<table border=\"1\" class=\"dataframe\">\n",
       "  <thead>\n",
       "    <tr style=\"text-align: right;\">\n",
       "      <th></th>\n",
       "      <th>task</th>\n",
       "      <th>subset</th>\n",
       "      <th>submission_id</th>\n",
       "    </tr>\n",
       "  </thead>\n",
       "  <tbody>\n",
       "    <tr>\n",
       "      <th>30</th>\n",
       "      <td>3</td>\n",
       "      <td>rumsey</td>\n",
       "      <td>114536</td>\n",
       "    </tr>\n",
       "    <tr>\n",
       "      <th>37</th>\n",
       "      <td>4</td>\n",
       "      <td>rumsey</td>\n",
       "      <td>113481</td>\n",
       "    </tr>\n",
       "    <tr>\n",
       "      <th>27</th>\n",
       "      <td>3</td>\n",
       "      <td>rumsey</td>\n",
       "      <td>113479</td>\n",
       "    </tr>\n",
       "    <tr>\n",
       "      <th>4</th>\n",
       "      <td>1</td>\n",
       "      <td>rumsey</td>\n",
       "      <td>114288</td>\n",
       "    </tr>\n",
       "    <tr>\n",
       "      <th>10</th>\n",
       "      <td>1</td>\n",
       "      <td>ign</td>\n",
       "      <td>113464</td>\n",
       "    </tr>\n",
       "  </tbody>\n",
       "</table>\n",
       "</div>"
      ],
      "text/plain": [
       "    task  subset  submission_id\n",
       "30     3  rumsey         114536\n",
       "37     4  rumsey         113481\n",
       "27     3  rumsey         113479\n",
       "4      1  rumsey         114288\n",
       "10     1     ign         113464"
      ]
     },
     "execution_count": 2,
     "metadata": {},
     "output_type": "execute_result"
    }
   ],
   "source": [
    "# pre-screened as not being test submissions or duplicates\n",
    "accepted_submissions = {114579, 114197, 114581, 114582, 114585, 113460, 113461, 113462, 113464, 113478, 113479, 113480, 113481, 114534, 114279, 114536, 114283, 114288, 114549, 114293, 114551, 114298, 114302, 114303}\n",
    "\n",
    "valid_submissions: list[dict[str,Union[int,str]]] = []  # each item has the form {\"submission_id\": int, \"task\": int, \"subset\": str}\n",
    "dropped_count = 0\n",
    "for task_id in VALID_TASKS:\n",
    "    for subset in VALID_SUBSETS:\n",
    "        for submission_id in list_submissions(task_id, subset):\n",
    "            submission_id = int(submission_id)\n",
    "            if submission_id not in accepted_submissions or (task_id == 1 and subset == \"ign\" and submission_id in (\"114298\", )):  # extra filtering for an unexpected duplicate\n",
    "                # print(f\"Skipping submission {submission_id}\")\n",
    "                dropped_count += 1\n",
    "                continue\n",
    "            record = {\"task\": task_id, \"subset\": subset, \"submission_id\": submission_id}\n",
    "            valid_submissions.append(record)\n",
    "print(f\"Dropped {dropped_count} submissions\")\n",
    "print(f\"Kept {len(valid_submissions)} submissions\")\n",
    "valid_submissions = pd.DataFrame(valid_submissions)\n",
    "valid_submissions.sample(5, random_state=0)"
   ]
  },
  {
   "cell_type": "code",
   "execution_count": 3,
   "metadata": {},
   "outputs": [],
   "source": [
    "valid_submissions.to_csv(\"valid_submissions.csv\", index=False)"
   ]
  },
  {
   "cell_type": "code",
   "execution_count": 4,
   "metadata": {},
   "outputs": [
    {
     "data": {
      "text/html": [
       "<div>\n",
       "<style scoped>\n",
       "    .dataframe tbody tr th:only-of-type {\n",
       "        vertical-align: middle;\n",
       "    }\n",
       "\n",
       "    .dataframe tbody tr th {\n",
       "        vertical-align: top;\n",
       "    }\n",
       "\n",
       "    .dataframe thead th {\n",
       "        text-align: right;\n",
       "    }\n",
       "</style>\n",
       "<table border=\"1\" class=\"dataframe\">\n",
       "  <thead>\n",
       "    <tr style=\"text-align: right;\">\n",
       "      <th></th>\n",
       "      <th>task</th>\n",
       "      <th>subset</th>\n",
       "      <th>submission_id</th>\n",
       "    </tr>\n",
       "  </thead>\n",
       "  <tbody>\n",
       "    <tr>\n",
       "      <th>30</th>\n",
       "      <td>3</td>\n",
       "      <td>rumsey</td>\n",
       "      <td>114536</td>\n",
       "    </tr>\n",
       "    <tr>\n",
       "      <th>37</th>\n",
       "      <td>4</td>\n",
       "      <td>rumsey</td>\n",
       "      <td>113481</td>\n",
       "    </tr>\n",
       "    <tr>\n",
       "      <th>27</th>\n",
       "      <td>3</td>\n",
       "      <td>rumsey</td>\n",
       "      <td>113479</td>\n",
       "    </tr>\n",
       "    <tr>\n",
       "      <th>4</th>\n",
       "      <td>1</td>\n",
       "      <td>rumsey</td>\n",
       "      <td>114288</td>\n",
       "    </tr>\n",
       "    <tr>\n",
       "      <th>10</th>\n",
       "      <td>1</td>\n",
       "      <td>ign</td>\n",
       "      <td>113464</td>\n",
       "    </tr>\n",
       "  </tbody>\n",
       "</table>\n",
       "</div>"
      ],
      "text/plain": [
       "    task  subset  submission_id\n",
       "30     3  rumsey         114536\n",
       "37     4  rumsey         113481\n",
       "27     3  rumsey         113479\n",
       "4      1  rumsey         114288\n",
       "10     1     ign         113464"
      ]
     },
     "execution_count": 4,
     "metadata": {},
     "output_type": "execute_result"
    }
   ],
   "source": [
    "# test re-loading\n",
    "valid_submissions = pd.read_csv(\"valid_submissions.csv\")\n",
    "valid_submissions.sample(5, random_state=0)"
   ]
  },
  {
   "cell_type": "markdown",
   "metadata": {},
   "source": [
    "OK. Ready to continue."
   ]
  },
  {
   "cell_type": "markdown",
   "metadata": {},
   "source": []
  }
 ],
 "metadata": {
  "kernelspec": {
   "display_name": "analysis-TuuStEI5",
   "language": "python",
   "name": "python3"
  },
  "language_info": {
   "codemirror_mode": {
    "name": "ipython",
    "version": 3
   },
   "file_extension": ".py",
   "mimetype": "text/x-python",
   "name": "python",
   "nbconvert_exporter": "python",
   "pygments_lexer": "ipython3",
   "version": "3.10.13"
  }
 },
 "nbformat": 4,
 "nbformat_minor": 2
}
