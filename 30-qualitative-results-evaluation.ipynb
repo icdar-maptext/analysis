{
 "cells": [
  {
   "cell_type": "markdown",
   "metadata": {},
   "source": [
    "# Qualitative study of results with evaluation"
   ]
  },
  {
   "cell_type": "code",
   "execution_count": null,
   "metadata": {},
   "outputs": [],
   "source": [
    "## TODO start by reproducing TASK 1 visualisation, computing matches_ious using eval.py, and changing the way shapes are colored using this score\n",
    "# (generate 2 images: precision, which is from prediction point of view, and recall, which is from ground truth point of view)"
   ]
  }
 ],
 "metadata": {
  "kernelspec": {
   "display_name": "analysis-TuuStEI5",
   "language": "python",
   "name": "python3"
  },
  "language_info": {
   "codemirror_mode": {
    "name": "ipython",
    "version": 3
   },
   "file_extension": ".py",
   "mimetype": "text/x-python",
   "name": "python",
   "nbconvert_exporter": "python",
   "pygments_lexer": "ipython3",
   "version": "3.10.13"
  }
 },
 "nbformat": 4,
 "nbformat_minor": 2
}
