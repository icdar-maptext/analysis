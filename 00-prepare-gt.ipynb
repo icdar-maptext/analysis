{
 "cells": [
  {
   "cell_type": "markdown",
   "metadata": {},
   "source": [
    "# Separate ground-truth data for each subset\n",
    "\n",
    "To use this notebook, you must download the secret ground truth file for the test set on the RRC platform.\n",
    "This requires to log in as MapText competition administrator.\n",
    "\n",
    "What you can download from the platform is a single ground truth file `test.json`.\n",
    "This file contains the targets for both subsets, and for convenience we split it here.\n",
    "\n",
    "Actually, it would be even better to further split the data into a separate file for each image, but this is not done here."
   ]
  },
  {
   "cell_type": "code",
   "execution_count": 1,
   "metadata": {},
   "outputs": [],
   "source": [
    "# Secret file downloaded from the online plateform\n",
    "PATH_TO_SINGLE_GT = \"data/00-input/gt/test.json\""
   ]
  },
  {
   "cell_type": "code",
   "execution_count": 2,
   "metadata": {},
   "outputs": [
    {
     "name": "stdout",
     "output_type": "stream",
     "text": [
      "69c74b6717561ac67c7becb3a069cfdb  data/00-input/gt/test.json\n"
     ]
    }
   ],
   "source": [
    "!md5sum $PATH_TO_SINGLE_GT"
   ]
  },
  {
   "cell_type": "code",
   "execution_count": 3,
   "metadata": {},
   "outputs": [],
   "source": [
    "# Split the list into two lists depending on the value of the \"image\" field for each item\n",
    "# the file has the following structure:\n",
    "# [\n",
    "#     {\n",
    "#         \"image\": \"rumsey/test/3081001_h6_w18.png\",\n",
    "#         \"groups\": [ ... ]\n",
    "#     },\n",
    "#     {\n",
    "#         \"image\": \"rumsey/test/....png\",\n",
    "#         \"groups\": [ ... ]\n",
    "#     },\n",
    "#     ...\n",
    "#     {\n",
    "#         \"image\": \"ign25/test/000001.jpg\",\n",
    "#         \"groups\": [ ... ]\n",
    "#     },\n",
    "#     ...\n",
    "#     {\n",
    "#         \"image\": \"tw25/test/B-3592-0062-47_t024_h0_w0.jpg\",\n",
    "#         \"groups\": [ ... ]\n",
    "#     },\n",
    "#     ...\n",
    "# ]\n",
    "# the first list contains all the items with the \"image\" field starting with \"rumsey\"\n",
    "# the second list contains all the items with the \"image\" field starting with \"ign\"\n",
    "# the third list contains all the items with the \"image\" field starting with \"twh\"\n",
    "def split_gt_by_image(gt):\n",
    "    rumsey = []\n",
    "    ign = []\n",
    "    twh = []\n",
    "    for item in gt:\n",
    "        if item[\"image\"].startswith(\"rumsey\"):\n",
    "            rumsey.append(item)\n",
    "        elif item[\"image\"].startswith(\"ign25\"):\n",
    "            ign.append(item)\n",
    "        elif item[\"image\"].startswith(\"tw25\"):\n",
    "            twh.append(item)\n",
    "        else:\n",
    "            raise ValueError(f\"Unknown image prefix: {item['image']}\")\n",
    "    return rumsey, ign, twh"
   ]
  },
  {
   "cell_type": "code",
   "execution_count": 4,
   "metadata": {},
   "outputs": [],
   "source": [
    "# Create output directories\n",
    "import os\n",
    "os.makedirs(\"data/00-input/gt/rumsey\", exist_ok=True)\n",
    "os.makedirs(\"data/00-input/gt/ign\", exist_ok=True)\n",
    "os.makedirs(\"data/00-input/gt/twh\", exist_ok=True)\n",
    "\n",
    "# Open the file and generate the two lists\n",
    "import json\n",
    "with open(PATH_TO_SINGLE_GT) as f:\n",
    "    gt = json.load(f)\n",
    "    rumsey, ign, twh = split_gt_by_image(gt)\n",
    "    # save the two lists to two separate files\n",
    "    with open(\"data/00-input/gt/rumsey/test.json\", \"w\") as f:\n",
    "        json.dump(rumsey, f, indent=2)\n",
    "    with open(\"data/00-input/gt/ign/test.json\", \"w\") as f:\n",
    "        json.dump(ign, f, indent=2)\n",
    "    with open(\"data/00-input/gt/twh/test.json\", \"w\") as f:\n",
    "        json.dump(twh, f, indent=2)"
   ]
  },
  {
   "cell_type": "code",
   "execution_count": 5,
   "metadata": {},
   "outputs": [
    {
     "name": "stdout",
     "output_type": "stream",
     "text": [
      "07c4bcfa3c1d93f8074451c744e971d9  data/00-input/gt/rumsey/test.json\n",
      "842741bc1edd5b21e2caca76b893e503  data/00-input/gt/ign/test.json\n",
      "bcb7cb61bf391d0e1c90dcbdbc5bdeb0  data/00-input/gt/twh/test.json\n"
     ]
    }
   ],
   "source": [
    "!md5sum data/00-input/gt/rumsey/test.json\n",
    "!md5sum data/00-input/gt/ign/test.json\n",
    "!md5sum data/00-input/gt/twh/test.json"
   ]
  },
  {
   "cell_type": "code",
   "execution_count": null,
   "metadata": {},
   "outputs": [],
   "source": []
  }
 ],
 "metadata": {
  "kernelspec": {
   "display_name": ".venv",
   "language": "python",
   "name": "python3"
  },
  "language_info": {
   "codemirror_mode": {
    "name": "ipython",
    "version": 3
   },
   "file_extension": ".py",
   "mimetype": "text/x-python",
   "name": "python",
   "nbconvert_exporter": "python",
   "pygments_lexer": "ipython3",
   "version": "3.10.13"
  }
 },
 "nbformat": 4,
 "nbformat_minor": 2
}
