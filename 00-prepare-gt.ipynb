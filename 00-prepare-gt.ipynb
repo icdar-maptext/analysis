{
 "cells": [
  {
   "cell_type": "markdown",
   "metadata": {},
   "source": [
    "# Separate ground-truth data for each subset\n",
    "\n",
    "To use this notebook, you must download the secret ground truth file for the test set on the RRC platform.\n",
    "This requires to log in as MapText competition administrator.\n",
    "\n",
    "What you can download from the platform is a single ground truth file `test.json`.\n",
    "This file contains the targets for both subsets, and for convenience we split it here.\n",
    "\n",
    "Actually, it would be even better to further split the data into a separate file for each image, but this is not done here."
   ]
  },
  {
   "cell_type": "code",
   "execution_count": 1,
   "metadata": {},
   "outputs": [],
   "source": [
    "# Secret file downloaded from the online plateform\n",
    "PATH_TO_SINGLE_GT = \"data/00-input/gt/test.json\""
   ]
  },
  {
   "cell_type": "code",
   "execution_count": 2,
   "metadata": {},
   "outputs": [
    {
     "name": "stdout",
     "output_type": "stream",
     "text": [
      "5dc1b2f33419fd9d32be7cb76ecab7b4  data/00-input/gt/test.json\n"
     ]
    }
   ],
   "source": [
    "!md5sum {PATH_TO_SINGLE_GT}"
   ]
  },
  {
   "cell_type": "code",
   "execution_count": 3,
   "metadata": {},
   "outputs": [],
   "source": [
    "# Split the list into two lists depending on the value of the \"image\" field for each item\n",
    "# the file has the following structure:\n",
    "# [\n",
    "#     {\n",
    "#         \"image\": \"rumsey/test/3081001_h6_w18.png\",\n",
    "#         \"groups\": [ ... ]\n",
    "#     },\n",
    "#     {\n",
    "#         \"image\": \"rumsey/test/....png\",\n",
    "#         \"groups\": [ ... ]\n",
    "#     },\n",
    "#     ...\n",
    "#     {\n",
    "#         \"image\": \"ign/test/000001.jpg\",\n",
    "#         \"groups\": [ ... ]\n",
    "#     },\n",
    "#     ...\n",
    "# ]\n",
    "# the first list contains all the items with the \"image\" field starting with \"rumsey\"\n",
    "# the second list contains all the items with the \"image\" field starting with \"ign\"\n",
    "def split_gt_by_image(gt):\n",
    "    rumsey = []\n",
    "    ign = []\n",
    "    for item in gt:\n",
    "        if item[\"image\"].startswith(\"rumsey\"):\n",
    "            rumsey.append(item)\n",
    "        elif item[\"image\"].startswith(\"ign\"):\n",
    "            ign.append(item)\n",
    "    return rumsey, ign"
   ]
  },
  {
   "cell_type": "code",
   "execution_count": 4,
   "metadata": {},
   "outputs": [],
   "source": [
    "# Create output directories\n",
    "import os\n",
    "os.makedirs(\"data/00-input/gt/rumsey\", exist_ok=True)\n",
    "os.makedirs(\"data/00-input/gt/ign\", exist_ok=True)\n",
    "\n",
    "# Open the file and generate the two lists\n",
    "import json\n",
    "with open(PATH_TO_SINGLE_GT) as f:\n",
    "    gt = json.load(f)\n",
    "    rumsey, ign = split_gt_by_image(gt)\n",
    "    # save the two lists to two separate files\n",
    "    with open(\"data/00-input/gt/rumsey/test.json\", \"w\") as f:\n",
    "        json.dump(rumsey, f, indent=2)\n",
    "    with open(\"data/00-input/gt/ign/test.json\", \"w\") as f:\n",
    "        json.dump(ign, f, indent=2)"
   ]
  },
  {
   "cell_type": "code",
   "execution_count": 5,
   "metadata": {},
   "outputs": [
    {
     "name": "stdout",
     "output_type": "stream",
     "text": [
      "07c4bcfa3c1d93f8074451c744e971d9  data/00-input/gt/rumsey/test.json\n",
      "2423e77747c961daa0f72087af7f4333  data/00-input/gt/ign/test.json\n"
     ]
    }
   ],
   "source": [
    "!md5sum data/00-input/gt/rumsey/test.json\n",
    "!md5sum data/00-input/gt/ign/test.json"
   ]
  },
  {
   "cell_type": "code",
   "execution_count": null,
   "metadata": {},
   "outputs": [],
   "source": []
  }
 ],
 "metadata": {
  "kernelspec": {
   "display_name": "analysis-ER11PNDb",
   "language": "python",
   "name": "python3"
  },
  "language_info": {
   "codemirror_mode": {
    "name": "ipython",
    "version": 3
   },
   "file_extension": ".py",
   "mimetype": "text/x-python",
   "name": "python",
   "nbconvert_exporter": "python",
   "pygments_lexer": "ipython3",
   "version": "3.10.13"
  }
 },
 "nbformat": 4,
 "nbformat_minor": 2
}
